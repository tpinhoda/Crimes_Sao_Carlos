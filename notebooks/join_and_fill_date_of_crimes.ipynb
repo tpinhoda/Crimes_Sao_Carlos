{
 "cells": [
  {
   "cell_type": "code",
   "execution_count": 1,
   "metadata": {},
   "outputs": [],
   "source": [
    "import pandas as pd\n",
    "import numpy as np\n",
    "\n",
    "#Removing some columns\n",
    "cr = pd.read_csv(\"..//data//crimes.csv\")\n",
    "\n",
    "cr = cr.drop(['ID_delegacia','Nome_departamento','Nome_seccional','NOME_DELEGACIA','Cidade','Nome_departamento_circ','Nome_seccional_circ','Nome_delegacia_circ','Município','Tipo_BO','Apresentação','Autoria_BO','Intolerância','Rubrica','Desdobramento','Subtipo_local'], axis=1)\n",
    "\n",
    "cr['LATITUDE'] = cr['LATITUDE'].fillna(0)\n",
    "cr['LONGITUDE'] = cr['LONGITUDE'].fillna(0)\n",
    "cr['Num_logradouro'] = cr['Num_logradouro'].fillna(0)\n",
    "\n",
    "#Removing some rows in which it is impossible find out lat and lon\n",
    "for index, row in cr.iterrows():\n",
    "    if (row['LATITUDE'] == 0):\n",
    "        if (pd.isnull(row['CEP']) or row['CEP'] == '-'):\n",
    "            if (pd.isnull(row['LOGRADOURO']) or row['Num_logradouro']==0):\n",
    "                cr = cr.drop(index)    \n",
    "\n",
    "#getting some missing crimes\n",
    "cr2 = pd.read_csv(\"..//data//crimes.csv\")\n",
    "cr2 = cr2.drop(['ID_delegacia','Nome_departamento','Nome_seccional','NOME_DELEGACIA','Cidade','Nome_departamento_circ','Nome_seccional_circ','Nome_delegacia_circ','Município','Tipo_BO','Apresentação','Autoria_BO','Intolerância','Rubrica','Desdobramento','Subtipo_local'], axis=1)\n",
    "cr2['LATITUDE'] = cr2['LATITUDE'].fillna(0)\n",
    "cr2['LONGITUDE'] = cr2['LONGITUDE'].fillna(0)\n",
    "cr2['Num_logradouro'] = cr2['Num_logradouro'].fillna(0)\n",
    "\n",
    "for index, row in cr2.iterrows():\n",
    "    if (row['LATITUDE'] == 0):\n",
    "        if (pd.isnull(row['LOGRADOURO']) or row['Num_logradouro']==0):\n",
    "            cr2 = cr2.drop(index)\n",
    "            \n",
    "new = pd.concat([cr, cr2]).drop_duplicates(keep=False)\n",
    "\n",
    "new.to_csv(\"..//data//missing_crimes.csv\",index=None)"
   ]
  },
  {
   "cell_type": "code",
   "execution_count": 72,
   "metadata": {},
   "outputs": [],
   "source": [
    "#joining crimes"
   ]
  },
  {
   "cell_type": "code",
   "execution_count": 8,
   "metadata": {},
   "outputs": [],
   "source": [
    "from datetime import datetime\n",
    "import random\n",
    "\n",
    "cr = pd.read_csv(\"..//data//crimes_final.csv\")\n",
    "\n",
    "\n",
    "cr = cr[cr['Conduta'].isin(['ESTABELECIMENTO COMERCIAL','INTERIOR ESTABELECIMENTO','ESTABELECIMENTO ENSINO','ESTABELECIMENTO-OUTROS','TRANSEUNTE','VEICULO'])]\n",
    "\n",
    "def class_cr(cr):\n",
    "    if (cr['Conduta'] == 'ESTABELECIMENTO COMERCIAL' or cr['Conduta'] == 'INTERIOR ESTABELECIMENTO' or cr['Conduta'] == 'ESTABELECIMENTO ENSINO' or cr['Conduta'] == 'ESTABELECIMENTO-OUTROS'):\n",
    "        return 'ESTABELECIMENTO'\n",
    "    elif (cr['Conduta'] == 'TRANSEUNTE'):\n",
    "        return 'TRANSEUNTE'\n",
    "    elif (cr['Conduta'] == 'VEICULO'):\n",
    "        return 'VEICULO'\n",
    "    \n",
    "\n",
    "cr['class'] = cr.apply(class_cr, axis = 1)\n",
    "\n",
    "def generateHour(start,end):\n",
    "    hours = random.randint(start, end)\n",
    "    minutes = random.randint(0, 59)\n",
    "    seconds = random.randint(0, 59)\n",
    "    composto = datetime.strptime(str(hours)+':'+str(minutes)+':'+str(seconds),'%H:%M:%S')\n",
    "    return composto.time()\n",
    "\n",
    "def inputHour(data):\n",
    "    for index, row in data.iterrows():\n",
    "        h = ''\n",
    "        if (pd.isnull(row['Hora_ocorrencia_BO'])):\n",
    "            if (row['Período'] == 'DE MADRUGADA'):\n",
    "                h = generateHour(0,5)\n",
    "            elif (row['Período'] == 'PELA MANHA'):\n",
    "                h = generateHour(6,11)\n",
    "            elif (row['Período'] == 'A TARDE'):\n",
    "                h = generateHour(12,17)\n",
    "            elif (row['Período'] == 'A NOITE'):\n",
    "                h = generateHour(18,23)\n",
    "            else:  \n",
    "                h = generateHour(0,23)\n",
    "            data.loc[index,'Hora_ocorrencia_BO'] = h\n",
    "    return data\n",
    "\n",
    "cr = inputHour(cr)\n",
    "\n",
    "cr.to_csv(\"..//data//crimes_final.csv\",index=None)\n"
   ]
  },
  {
   "cell_type": "code",
   "execution_count": null,
   "metadata": {},
   "outputs": [],
   "source": []
  }
 ],
 "metadata": {
  "kernelspec": {
   "display_name": "Python 3",
   "language": "python",
   "name": "python3"
  },
  "language_info": {
   "codemirror_mode": {
    "name": "ipython",
    "version": 3
   },
   "file_extension": ".py",
   "mimetype": "text/x-python",
   "name": "python",
   "nbconvert_exporter": "python",
   "pygments_lexer": "ipython3",
   "version": "3.7.3"
  }
 },
 "nbformat": 4,
 "nbformat_minor": 2
}
