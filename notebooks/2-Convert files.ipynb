{
 "cells": [
  {
   "cell_type": "code",
   "execution_count": 1,
   "metadata": {},
   "outputs": [],
   "source": [
    "import pandas as pd"
   ]
  },
  {
   "cell_type": "markdown",
   "metadata": {},
   "source": [
    "## Estabelecimentos"
   ]
  },
  {
   "cell_type": "code",
   "execution_count": 2,
   "metadata": {},
   "outputs": [],
   "source": [
    "estabelecimentos = pd.read_excel('raw/Estabelecimentos comerciais São Carlos.xlsx', index_col=None)"
   ]
  },
  {
   "cell_type": "code",
   "execution_count": 3,
   "metadata": {},
   "outputs": [
    {
     "data": {
      "text/html": [
       "<div>\n",
       "<style scoped>\n",
       "    .dataframe tbody tr th:only-of-type {\n",
       "        vertical-align: middle;\n",
       "    }\n",
       "\n",
       "    .dataframe tbody tr th {\n",
       "        vertical-align: top;\n",
       "    }\n",
       "\n",
       "    .dataframe thead th {\n",
       "        text-align: right;\n",
       "    }\n",
       "</style>\n",
       "<table border=\"1\" class=\"dataframe\">\n",
       "  <thead>\n",
       "    <tr style=\"text-align: right;\">\n",
       "      <th></th>\n",
       "      <th>MOBI_NUM_INSCRICAO</th>\n",
       "      <th>BUSCA_NOME(MOBI.MOBI_NUM_CADASTRO)</th>\n",
       "      <th>ENDERECO</th>\n",
       "      <th>ATIT_DES_ATIVIDADE</th>\n",
       "    </tr>\n",
       "  </thead>\n",
       "  <tbody>\n",
       "    <tr>\n",
       "      <td>0</td>\n",
       "      <td>50370</td>\n",
       "      <td>VALMARCO - MATERIAIS ELETRICOS LTDA - EPP</td>\n",
       "      <td>R DONA ALEXANDRINA  nº 494 ANEXO  504 CENTRO  ...</td>\n",
       "      <td>COMÉRCIO VAREJISTA DE MATERIAIS HIDRÁULICOS</td>\n",
       "    </tr>\n",
       "    <tr>\n",
       "      <td>1</td>\n",
       "      <td>53614</td>\n",
       "      <td>ATMOSFERA MAGAZINE LTDA ME</td>\n",
       "      <td>AV DR. CARLOS BOTELHO  nº 1600   CENTRO  CEP 1...</td>\n",
       "      <td>COMÉRCIO VAREJISTA DE ARTIGOS DE VIAGEM</td>\n",
       "    </tr>\n",
       "    <tr>\n",
       "      <td>2</td>\n",
       "      <td>53614</td>\n",
       "      <td>ATMOSFERA MAGAZINE LTDA ME</td>\n",
       "      <td>AV DR. CARLOS BOTELHO  nº 1600   CENTRO  CEP 1...</td>\n",
       "      <td>COMÉRCIO VAREJISTA DE SUVENIRES, BIJUTERIAS E ...</td>\n",
       "    </tr>\n",
       "    <tr>\n",
       "      <td>3</td>\n",
       "      <td>56886</td>\n",
       "      <td>CORETINTAS - TINTAS E MULTIPRODUTOS LTDA - EPP</td>\n",
       "      <td>R   MIGUEL PETRONI  nº 1816   JARDIM BANDEIRAN...</td>\n",
       "      <td>COMÉRCIO VAREJISTA DE MATERIAIS DE CONSTRUÇÃO ...</td>\n",
       "    </tr>\n",
       "    <tr>\n",
       "      <td>4</td>\n",
       "      <td>56339</td>\n",
       "      <td>INDUSTRIA E COMERCIO DE MOVEIS BERTOLINO LTDA ...</td>\n",
       "      <td>R   MAJOR MANOEL A DE MATTOS  nº 1767   VILA N...</td>\n",
       "      <td>TAPECARIA E REFORMA DE ESTOFAMENTOS EM GERAL</td>\n",
       "    </tr>\n",
       "  </tbody>\n",
       "</table>\n",
       "</div>"
      ],
      "text/plain": [
       "   MOBI_NUM_INSCRICAO                 BUSCA_NOME(MOBI.MOBI_NUM_CADASTRO)  \\\n",
       "0               50370          VALMARCO - MATERIAIS ELETRICOS LTDA - EPP   \n",
       "1               53614                         ATMOSFERA MAGAZINE LTDA ME   \n",
       "2               53614                         ATMOSFERA MAGAZINE LTDA ME   \n",
       "3               56886     CORETINTAS - TINTAS E MULTIPRODUTOS LTDA - EPP   \n",
       "4               56339  INDUSTRIA E COMERCIO DE MOVEIS BERTOLINO LTDA ...   \n",
       "\n",
       "                                            ENDERECO  \\\n",
       "0  R DONA ALEXANDRINA  nº 494 ANEXO  504 CENTRO  ...   \n",
       "1  AV DR. CARLOS BOTELHO  nº 1600   CENTRO  CEP 1...   \n",
       "2  AV DR. CARLOS BOTELHO  nº 1600   CENTRO  CEP 1...   \n",
       "3  R   MIGUEL PETRONI  nº 1816   JARDIM BANDEIRAN...   \n",
       "4  R   MAJOR MANOEL A DE MATTOS  nº 1767   VILA N...   \n",
       "\n",
       "                                  ATIT_DES_ATIVIDADE  \n",
       "0        COMÉRCIO VAREJISTA DE MATERIAIS HIDRÁULICOS  \n",
       "1            COMÉRCIO VAREJISTA DE ARTIGOS DE VIAGEM  \n",
       "2  COMÉRCIO VAREJISTA DE SUVENIRES, BIJUTERIAS E ...  \n",
       "3  COMÉRCIO VAREJISTA DE MATERIAIS DE CONSTRUÇÃO ...  \n",
       "4       TAPECARIA E REFORMA DE ESTOFAMENTOS EM GERAL  "
      ]
     },
     "execution_count": 3,
     "metadata": {},
     "output_type": "execute_result"
    }
   ],
   "source": [
    "estabelecimentos.head()"
   ]
  },
  {
   "cell_type": "code",
   "execution_count": 4,
   "metadata": {},
   "outputs": [],
   "source": [
    "estabelecimentos = estabelecimentos.rename(columns={'MOBI_NUM_INSCRICAO': 'Num_inscrição',\n",
    "                                 'BUSCA_NOME(MOBI.MOBI_NUM_CADASTRO)' : 'Nome',\n",
    "                                 'ENDERECO' : 'Endereço',\n",
    "                                 'ATIT_DES_ATIVIDADE' : 'Tipo'                               \n",
    "                                })"
   ]
  },
  {
   "cell_type": "code",
   "execution_count": 5,
   "metadata": {},
   "outputs": [],
   "source": [
    "estabelecimentos.to_csv(r'data/estabelecimentos.csv', index=False)"
   ]
  },
  {
   "cell_type": "markdown",
   "metadata": {},
   "source": [
    "## Praças"
   ]
  },
  {
   "cell_type": "code",
   "execution_count": 6,
   "metadata": {},
   "outputs": [],
   "source": [
    "pracas = pd.read_excel('raw/Praças de São Carlos (1).xls', index_col=None)"
   ]
  },
  {
   "cell_type": "code",
   "execution_count": 7,
   "metadata": {},
   "outputs": [
    {
     "data": {
      "text/html": [
       "<div>\n",
       "<style scoped>\n",
       "    .dataframe tbody tr th:only-of-type {\n",
       "        vertical-align: middle;\n",
       "    }\n",
       "\n",
       "    .dataframe tbody tr th {\n",
       "        vertical-align: top;\n",
       "    }\n",
       "\n",
       "    .dataframe thead th {\n",
       "        text-align: right;\n",
       "    }\n",
       "</style>\n",
       "<table border=\"1\" class=\"dataframe\">\n",
       "  <thead>\n",
       "    <tr style=\"text-align: right;\">\n",
       "      <th></th>\n",
       "      <th>PRAÇAS DE SÃO CARLOS E REGIÃO</th>\n",
       "    </tr>\n",
       "  </thead>\n",
       "  <tbody>\n",
       "    <tr>\n",
       "      <td>0</td>\n",
       "      <td>PRAÇA AMADOR BUENO - Situada no Jardim Centen...</td>\n",
       "    </tr>\n",
       "    <tr>\n",
       "      <td>1</td>\n",
       "      <td>PRAÇA ITÁLIA - Lei nº1.882/54</td>\n",
       "    </tr>\n",
       "    <tr>\n",
       "      <td>2</td>\n",
       "      <td>PRAÇA OSWALDO CRUZ - Localizada na rua Conde d...</td>\n",
       "    </tr>\n",
       "    <tr>\n",
       "      <td>3</td>\n",
       "      <td>PRAÇA CEL. PAULINO CARLOS DE ARRUDA BOTELHO - ...</td>\n",
       "    </tr>\n",
       "    <tr>\n",
       "      <td>4</td>\n",
       "      <td>do Pinhal, Treze de Maio, Av. São Carlos e Do...</td>\n",
       "    </tr>\n",
       "  </tbody>\n",
       "</table>\n",
       "</div>"
      ],
      "text/plain": [
       "                       PRAÇAS DE SÃO CARLOS E REGIÃO\n",
       "0   PRAÇA AMADOR BUENO - Situada no Jardim Centen...\n",
       "1                      PRAÇA ITÁLIA - Lei nº1.882/54\n",
       "2  PRAÇA OSWALDO CRUZ - Localizada na rua Conde d...\n",
       "3  PRAÇA CEL. PAULINO CARLOS DE ARRUDA BOTELHO - ...\n",
       "4   do Pinhal, Treze de Maio, Av. São Carlos e Do..."
      ]
     },
     "execution_count": 7,
     "metadata": {},
     "output_type": "execute_result"
    }
   ],
   "source": [
    "pracas.head()"
   ]
  },
  {
   "cell_type": "code",
   "execution_count": 8,
   "metadata": {},
   "outputs": [],
   "source": [
    "pracas = pracas.rename(columns={'PRAÇAS DE SÃO CARLOS E REGIÃO' : 'Nome'})"
   ]
  },
  {
   "cell_type": "code",
   "execution_count": 9,
   "metadata": {},
   "outputs": [],
   "source": [
    "pracas.to_csv(r'data/praças.csv', index=False)"
   ]
  },
  {
   "cell_type": "markdown",
   "metadata": {},
   "source": [
    "## Pontos de Ônibus"
   ]
  },
  {
   "cell_type": "code",
   "execution_count": 11,
   "metadata": {},
   "outputs": [],
   "source": [
    "pontos_onibus = pd.read_excel('raw/Pontos de ônibus de São Carlos.xlsx', index_col=None)"
   ]
  },
  {
   "cell_type": "code",
   "execution_count": 12,
   "metadata": {},
   "outputs": [
    {
     "data": {
      "text/html": [
       "<div>\n",
       "<style scoped>\n",
       "    .dataframe tbody tr th:only-of-type {\n",
       "        vertical-align: middle;\n",
       "    }\n",
       "\n",
       "    .dataframe tbody tr th {\n",
       "        vertical-align: top;\n",
       "    }\n",
       "\n",
       "    .dataframe thead th {\n",
       "        text-align: right;\n",
       "    }\n",
       "</style>\n",
       "<table border=\"1\" class=\"dataframe\">\n",
       "  <thead>\n",
       "    <tr style=\"text-align: right;\">\n",
       "      <th></th>\n",
       "      <th>Latitude:</th>\n",
       "      <th>Longitude:</th>\n",
       "    </tr>\n",
       "  </thead>\n",
       "  <tbody>\n",
       "    <tr>\n",
       "      <td>0</td>\n",
       "      <td>-21.936774</td>\n",
       "      <td>-47.895920</td>\n",
       "    </tr>\n",
       "    <tr>\n",
       "      <td>1</td>\n",
       "      <td>-21.936067</td>\n",
       "      <td>-47.895156</td>\n",
       "    </tr>\n",
       "    <tr>\n",
       "      <td>2</td>\n",
       "      <td>-21.934742</td>\n",
       "      <td>-47.893912</td>\n",
       "    </tr>\n",
       "    <tr>\n",
       "      <td>3</td>\n",
       "      <td>-21.934391</td>\n",
       "      <td>-47.893440</td>\n",
       "    </tr>\n",
       "    <tr>\n",
       "      <td>4</td>\n",
       "      <td>-21.932259</td>\n",
       "      <td>-47.891519</td>\n",
       "    </tr>\n",
       "  </tbody>\n",
       "</table>\n",
       "</div>"
      ],
      "text/plain": [
       "   Latitude:  Longitude:\n",
       "0 -21.936774  -47.895920\n",
       "1 -21.936067  -47.895156\n",
       "2 -21.934742  -47.893912\n",
       "3 -21.934391  -47.893440\n",
       "4 -21.932259  -47.891519"
      ]
     },
     "execution_count": 12,
     "metadata": {},
     "output_type": "execute_result"
    }
   ],
   "source": [
    "pontos_onibus.head()"
   ]
  },
  {
   "cell_type": "code",
   "execution_count": 13,
   "metadata": {},
   "outputs": [],
   "source": [
    "pontos_onibus = pontos_onibus.rename(columns={'Latitude:' : 'Lat',\n",
    "                                              'Longitude:' : 'Long'\n",
    "                                             })"
   ]
  },
  {
   "cell_type": "code",
   "execution_count": 14,
   "metadata": {},
   "outputs": [],
   "source": [
    "pontos_onibus.to_csv(r'data/pontos_onibus.csv', index=False)"
   ]
  },
  {
   "cell_type": "markdown",
   "metadata": {},
   "source": [
    "## Pontos de Ônibus cobertos"
   ]
  },
  {
   "cell_type": "code",
   "execution_count": 17,
   "metadata": {},
   "outputs": [],
   "source": [
    "pontos_onibus_cobertos = pd.read_excel('raw/Pontos cobertos.xlsx', index_col=None, skiprows=[0])"
   ]
  },
  {
   "cell_type": "code",
   "execution_count": 18,
   "metadata": {},
   "outputs": [
    {
     "data": {
      "text/html": [
       "<div>\n",
       "<style scoped>\n",
       "    .dataframe tbody tr th:only-of-type {\n",
       "        vertical-align: middle;\n",
       "    }\n",
       "\n",
       "    .dataframe tbody tr th {\n",
       "        vertical-align: top;\n",
       "    }\n",
       "\n",
       "    .dataframe thead th {\n",
       "        text-align: right;\n",
       "    }\n",
       "</style>\n",
       "<table border=\"1\" class=\"dataframe\">\n",
       "  <thead>\n",
       "    <tr style=\"text-align: right;\">\n",
       "      <th></th>\n",
       "      <th>Nº</th>\n",
       "      <th>Endereço do ponto</th>\n",
       "    </tr>\n",
       "  </thead>\n",
       "  <tbody>\n",
       "    <tr>\n",
       "      <td>0</td>\n",
       "      <td>1</td>\n",
       "      <td>Rua Ray Wesley Herrick, 475 -  Joquei Clube</td>\n",
       "    </tr>\n",
       "    <tr>\n",
       "      <td>1</td>\n",
       "      <td>2</td>\n",
       "      <td>Rua Ray Wesley Herrick, 705 -  Joquei Clube</td>\n",
       "    </tr>\n",
       "    <tr>\n",
       "      <td>2</td>\n",
       "      <td>3</td>\n",
       "      <td>Rua Rio Paraná , 338 - Joquei Clube</td>\n",
       "    </tr>\n",
       "    <tr>\n",
       "      <td>3</td>\n",
       "      <td>4</td>\n",
       "      <td>Rua Rio Paraná , 060 - Joquei Clube</td>\n",
       "    </tr>\n",
       "    <tr>\n",
       "      <td>4</td>\n",
       "      <td>5</td>\n",
       "      <td>Rua Rio Amazonas, 725 - Joquei Clube</td>\n",
       "    </tr>\n",
       "  </tbody>\n",
       "</table>\n",
       "</div>"
      ],
      "text/plain": [
       "   Nº                            Endereço do ponto\n",
       "0   1  Rua Ray Wesley Herrick, 475 -  Joquei Clube\n",
       "1   2  Rua Ray Wesley Herrick, 705 -  Joquei Clube\n",
       "2   3          Rua Rio Paraná , 338 - Joquei Clube\n",
       "3   4          Rua Rio Paraná , 060 - Joquei Clube\n",
       "4   5         Rua Rio Amazonas, 725 - Joquei Clube"
      ]
     },
     "execution_count": 18,
     "metadata": {},
     "output_type": "execute_result"
    }
   ],
   "source": [
    "pontos_onibus_cobertos.head()"
   ]
  },
  {
   "cell_type": "code",
   "execution_count": 19,
   "metadata": {},
   "outputs": [],
   "source": [
    "pontos_onibus_cobertos = pontos_onibus_cobertos.drop(columns='Nº')"
   ]
  },
  {
   "cell_type": "code",
   "execution_count": 20,
   "metadata": {},
   "outputs": [],
   "source": [
    "pontos_onibus_cobertos = pontos_onibus_cobertos.rename(columns={'Endereço do ponto:' : 'Endereço'})"
   ]
  },
  {
   "cell_type": "code",
   "execution_count": 21,
   "metadata": {},
   "outputs": [],
   "source": [
    "pontos_onibus_cobertos.to_csv(r'data/pontos_cobertos.csv', index=False)"
   ]
  },
  {
   "cell_type": "markdown",
   "metadata": {},
   "source": [
    "## Escolas"
   ]
  },
  {
   "cell_type": "code",
   "execution_count": 23,
   "metadata": {},
   "outputs": [],
   "source": [
    "escolas = pd.read_excel('raw/Unidades Escolares 2019 - municipais.xlsx', index_col=None)"
   ]
  },
  {
   "cell_type": "code",
   "execution_count": 24,
   "metadata": {},
   "outputs": [
    {
     "data": {
      "text/html": [
       "<div>\n",
       "<style scoped>\n",
       "    .dataframe tbody tr th:only-of-type {\n",
       "        vertical-align: middle;\n",
       "    }\n",
       "\n",
       "    .dataframe tbody tr th {\n",
       "        vertical-align: top;\n",
       "    }\n",
       "\n",
       "    .dataframe thead th {\n",
       "        text-align: right;\n",
       "    }\n",
       "</style>\n",
       "<table border=\"1\" class=\"dataframe\">\n",
       "  <thead>\n",
       "    <tr style=\"text-align: right;\">\n",
       "      <th></th>\n",
       "      <th>Unnamed: 0</th>\n",
       "      <th>CEMEI (0 a 3 anos)</th>\n",
       "      <th>ENDEREÇO</th>\n",
       "      <th>FONE</th>\n",
       "      <th>ORELHÃO</th>\n",
       "      <th>RESPONSAVEL</th>\n",
       "      <th>FONE PARTICULAR</th>\n",
       "      <th>EMAIL PARTICULAR</th>\n",
       "      <th>Unnamed: 8</th>\n",
       "      <th>Unnamed: 9</th>\n",
       "    </tr>\n",
       "  </thead>\n",
       "  <tbody>\n",
       "    <tr>\n",
       "      <td>0</td>\n",
       "      <td>30º</td>\n",
       "      <td>Amelia Meirelles Botta (Profa)</td>\n",
       "      <td>R.Pericles Soares, 160-Arnon de Mello</td>\n",
       "      <td>3307-4454</td>\n",
       "      <td>3307-0467</td>\n",
       "      <td>Regina Celia de Oliveira Novaes</td>\n",
       "      <td>3374-7786/99112-8713</td>\n",
       "      <td>cemei.amelia.botta@gmail.com</td>\n",
       "      <td>NaN</td>\n",
       "      <td>NaN</td>\n",
       "    </tr>\n",
       "    <tr>\n",
       "      <td>1</td>\n",
       "      <td>14º</td>\n",
       "      <td>Antonio  Cotrim (Prof)</td>\n",
       "      <td>R.José Tiberti, 160-Jd.Munique-SC VIII</td>\n",
       "      <td>3419-7815</td>\n",
       "      <td>NaN</td>\n",
       "      <td>Eloisa Catarina Fatima de Oliveira</td>\n",
       "      <td>3419-2831/99737-5051</td>\n",
       "      <td>Cemei.antonio.cotrim@gmail.com</td>\n",
       "      <td>NaN</td>\n",
       "      <td>NaN</td>\n",
       "    </tr>\n",
       "    <tr>\n",
       "      <td>2</td>\n",
       "      <td>15º</td>\n",
       "      <td>Bento Prado de Almeida Ferraz Jr (Prof)</td>\n",
       "      <td>R.Francisca Dirce Barbosa s/n- Douradinho</td>\n",
       "      <td>3415-0451</td>\n",
       "      <td>NaN</td>\n",
       "      <td>Ana Maria Fonseca</td>\n",
       "      <td>3372-8108/99216-2405</td>\n",
       "      <td>Cemei.bento.prado@gmail.com</td>\n",
       "      <td>NaN</td>\n",
       "      <td>NaN</td>\n",
       "    </tr>\n",
       "    <tr>\n",
       "      <td>3</td>\n",
       "      <td>16º</td>\n",
       "      <td>Bruno Panhoca</td>\n",
       "      <td>R.Vicente Pelicano, 740-Azulville</td>\n",
       "      <td>3368-5139</td>\n",
       "      <td>3368-0389</td>\n",
       "      <td>Adriana Aparecida Rocha</td>\n",
       "      <td>99767-7992</td>\n",
       "      <td>Cemei.bruno.panhoca@gmail.com</td>\n",
       "      <td>NaN</td>\n",
       "      <td>NaN</td>\n",
       "    </tr>\n",
       "    <tr>\n",
       "      <td>4</td>\n",
       "      <td>32º</td>\n",
       "      <td>Dionisio da Silva</td>\n",
       "      <td>R.Cristóvão Martinelli, 150 – Sta Eudoxia</td>\n",
       "      <td>3379-1419</td>\n",
       "      <td>NaN</td>\n",
       "      <td>Celia Ap Masuccio Redondo Tassim</td>\n",
       "      <td>99724-5170</td>\n",
       "      <td>Cemei.dionisio.da.silva@gmail.com</td>\n",
       "      <td>NaN</td>\n",
       "      <td>NaN</td>\n",
       "    </tr>\n",
       "  </tbody>\n",
       "</table>\n",
       "</div>"
      ],
      "text/plain": [
       "  Unnamed: 0                       CEMEI (0 a 3 anos)  \\\n",
       "0        30º           Amelia Meirelles Botta (Profa)   \n",
       "1        14º                   Antonio  Cotrim (Prof)   \n",
       "2        15º  Bento Prado de Almeida Ferraz Jr (Prof)   \n",
       "3        16º                            Bruno Panhoca   \n",
       "4        32º                        Dionisio da Silva   \n",
       "\n",
       "                                    ENDEREÇO       FONE    ORELHÃO  \\\n",
       "0      R.Pericles Soares, 160-Arnon de Mello  3307-4454  3307-0467   \n",
       "1     R.José Tiberti, 160-Jd.Munique-SC VIII  3419-7815        NaN   \n",
       "2  R.Francisca Dirce Barbosa s/n- Douradinho  3415-0451        NaN   \n",
       "3          R.Vicente Pelicano, 740-Azulville  3368-5139  3368-0389   \n",
       "4  R.Cristóvão Martinelli, 150 – Sta Eudoxia  3379-1419        NaN   \n",
       "\n",
       "                          RESPONSAVEL       FONE PARTICULAR  \\\n",
       "0     Regina Celia de Oliveira Novaes  3374-7786/99112-8713   \n",
       "1  Eloisa Catarina Fatima de Oliveira  3419-2831/99737-5051   \n",
       "2                   Ana Maria Fonseca  3372-8108/99216-2405   \n",
       "3             Adriana Aparecida Rocha            99767-7992   \n",
       "4    Celia Ap Masuccio Redondo Tassim            99724-5170   \n",
       "\n",
       "                    EMAIL PARTICULAR  Unnamed: 8  Unnamed: 9  \n",
       "0       cemei.amelia.botta@gmail.com         NaN         NaN  \n",
       "1     Cemei.antonio.cotrim@gmail.com         NaN         NaN  \n",
       "2        Cemei.bento.prado@gmail.com         NaN         NaN  \n",
       "3      Cemei.bruno.panhoca@gmail.com         NaN         NaN  \n",
       "4  Cemei.dionisio.da.silva@gmail.com         NaN         NaN  "
      ]
     },
     "execution_count": 24,
     "metadata": {},
     "output_type": "execute_result"
    }
   ],
   "source": [
    "escolas.head()"
   ]
  },
  {
   "cell_type": "code",
   "execution_count": 25,
   "metadata": {},
   "outputs": [],
   "source": [
    "escolas = escolas.drop(columns=['Unnamed: 0'])"
   ]
  },
  {
   "cell_type": "code",
   "execution_count": 26,
   "metadata": {},
   "outputs": [],
   "source": [
    "escolas = escolas.rename(columns={'CEMEI (0 a 3 anos)' : 'Nome',\n",
    "                                  'ENDEREÇO' : 'Endereço',\n",
    "                                  'FONE' : 'Telefone',\n",
    "                                  'ORELHÃO' : 'Orelhão',\n",
    "                                  'RESPONSAVEL' : 'Responsável',\n",
    "                                  'FONE PARTICULAR' : 'Telefone Particular',\n",
    "                                  'EMAIL PARTICULAR' : 'Email'\n",
    "                                 })"
   ]
  },
  {
   "cell_type": "code",
   "execution_count": 27,
   "metadata": {},
   "outputs": [],
   "source": [
    "escolas.to_csv(r'data/Escolas.csv', index=False)"
   ]
  },
  {
   "cell_type": "markdown",
   "metadata": {},
   "source": [
    "## Crimes"
   ]
  },
  {
   "cell_type": "code",
   "execution_count": 28,
   "metadata": {},
   "outputs": [],
   "source": [
    "crimes = pd.read_excel('raw/Prot 6917-19 (1).xlsx', index_col=None)"
   ]
  },
  {
   "cell_type": "code",
   "execution_count": 29,
   "metadata": {},
   "outputs": [
    {
     "data": {
      "text/html": [
       "<div>\n",
       "<style scoped>\n",
       "    .dataframe tbody tr th:only-of-type {\n",
       "        vertical-align: middle;\n",
       "    }\n",
       "\n",
       "    .dataframe tbody tr th {\n",
       "        vertical-align: top;\n",
       "    }\n",
       "\n",
       "    .dataframe thead th {\n",
       "        text-align: right;\n",
       "    }\n",
       "</style>\n",
       "<table border=\"1\" class=\"dataframe\">\n",
       "  <thead>\n",
       "    <tr style=\"text-align: right;\">\n",
       "      <th></th>\n",
       "      <th>ID_DELEGACIA</th>\n",
       "      <th>NOME_DEPARTAMENTO</th>\n",
       "      <th>NOME_SECCIONAL</th>\n",
       "      <th>NOME_DELEGACIA</th>\n",
       "      <th>CIDADE</th>\n",
       "      <th>ANO_BO</th>\n",
       "      <th>NUM_BO</th>\n",
       "      <th>NOME_DEPARTAMENTO_CIRC</th>\n",
       "      <th>NOME_SECCIONAL_CIRC</th>\n",
       "      <th>NOME_DELEGACIA_CIRC</th>\n",
       "      <th>...</th>\n",
       "      <th>DESCR_CONDUTA</th>\n",
       "      <th>DESDOBRAMENTO</th>\n",
       "      <th>BAIRRO</th>\n",
       "      <th>DESCR_TIPOLOCAL</th>\n",
       "      <th>DESCR_SUBTIPOLOCAL</th>\n",
       "      <th>CEP</th>\n",
       "      <th>LOGRADOURO</th>\n",
       "      <th>NUMERO_LOGRADOURO</th>\n",
       "      <th>LATITUDE</th>\n",
       "      <th>LONGITUDE</th>\n",
       "    </tr>\n",
       "  </thead>\n",
       "  <tbody>\n",
       "    <tr>\n",
       "      <td>0</td>\n",
       "      <td>10365</td>\n",
       "      <td>DECAP</td>\n",
       "      <td>DEL.SEC.4º NORTE</td>\n",
       "      <td>90º D.P. PQ. NOVO MUNDO</td>\n",
       "      <td>S.CARLOS</td>\n",
       "      <td>2017</td>\n",
       "      <td>1070</td>\n",
       "      <td>DEINTER 3 - RIBEIRAO PRETO</td>\n",
       "      <td>DEL.SEC.SAO CARLOS</td>\n",
       "      <td>04º D.P. SÃO CARLOS</td>\n",
       "      <td>...</td>\n",
       "      <td>VEICULO</td>\n",
       "      <td>NaN</td>\n",
       "      <td>RURAL</td>\n",
       "      <td>RODOVIA/ESTRADA</td>\n",
       "      <td>OUTROS</td>\n",
       "      <td>-</td>\n",
       "      <td>RODOVIA SP 310</td>\n",
       "      <td>224.0</td>\n",
       "      <td>-22.077654</td>\n",
       "      <td>-47.840905</td>\n",
       "    </tr>\n",
       "    <tr>\n",
       "      <td>1</td>\n",
       "      <td>10365</td>\n",
       "      <td>DECAP</td>\n",
       "      <td>DEL.SEC.4º NORTE</td>\n",
       "      <td>90º D.P. PQ. NOVO MUNDO</td>\n",
       "      <td>S.CARLOS</td>\n",
       "      <td>2018</td>\n",
       "      <td>719</td>\n",
       "      <td>DEINTER 3 - RIBEIRAO PRETO</td>\n",
       "      <td>DEL.SEC.SAO CARLOS</td>\n",
       "      <td>04º D.P. SÃO CARLOS</td>\n",
       "      <td>...</td>\n",
       "      <td>VEICULO</td>\n",
       "      <td>NaN</td>\n",
       "      <td>VL SANTA ISABEL</td>\n",
       "      <td>VIA PÚBLICA</td>\n",
       "      <td>VIA PÚBLICA</td>\n",
       "      <td>13570790</td>\n",
       "      <td>RUA SANTA ISABEL</td>\n",
       "      <td>230.0</td>\n",
       "      <td>-22.034556</td>\n",
       "      <td>-47.883901</td>\n",
       "    </tr>\n",
       "    <tr>\n",
       "      <td>2</td>\n",
       "      <td>30212</td>\n",
       "      <td>DEMACRO</td>\n",
       "      <td>DEL.SEC.GUARULHOS</td>\n",
       "      <td>04º D.P. GUARULHOS</td>\n",
       "      <td>S.CARLOS</td>\n",
       "      <td>2018</td>\n",
       "      <td>6604</td>\n",
       "      <td>DEINTER 3 - RIBEIRAO PRETO</td>\n",
       "      <td>DEL.SEC.SAO CARLOS</td>\n",
       "      <td>04º D.P. SÃO CARLOS</td>\n",
       "      <td>...</td>\n",
       "      <td>VEICULO</td>\n",
       "      <td>NaN</td>\n",
       "      <td>RURAL</td>\n",
       "      <td>VIA PÚBLICA</td>\n",
       "      <td>VIA PÚBLICA</td>\n",
       "      <td>NaN</td>\n",
       "      <td>RODOVIA SP 310</td>\n",
       "      <td>229.0</td>\n",
       "      <td>-22.033240</td>\n",
       "      <td>-47.860367</td>\n",
       "    </tr>\n",
       "    <tr>\n",
       "      <td>3</td>\n",
       "      <td>30212</td>\n",
       "      <td>DEMACRO</td>\n",
       "      <td>DEL.SEC.GUARULHOS</td>\n",
       "      <td>04º D.P. GUARULHOS</td>\n",
       "      <td>S.CARLOS</td>\n",
       "      <td>2018</td>\n",
       "      <td>6734</td>\n",
       "      <td>DEINTER 3 - RIBEIRAO PRETO</td>\n",
       "      <td>DEL.SEC.SAO CARLOS</td>\n",
       "      <td>05º D.P. SÃO CARLOS</td>\n",
       "      <td>...</td>\n",
       "      <td>OUTROS</td>\n",
       "      <td>NaN</td>\n",
       "      <td>RURAL</td>\n",
       "      <td>VIA PÚBLICA</td>\n",
       "      <td>VIA PÚBLICA</td>\n",
       "      <td>NaN</td>\n",
       "      <td>RODOVIA SP 310</td>\n",
       "      <td>240.0</td>\n",
       "      <td>-21.972914</td>\n",
       "      <td>-47.943115</td>\n",
       "    </tr>\n",
       "    <tr>\n",
       "      <td>4</td>\n",
       "      <td>30313</td>\n",
       "      <td>DEMACRO</td>\n",
       "      <td>DEL.SEC.MOGI DAS CRUZES</td>\n",
       "      <td>04º D.P. MOGI DAS CRUZES</td>\n",
       "      <td>S.CARLOS</td>\n",
       "      <td>2017</td>\n",
       "      <td>1458</td>\n",
       "      <td>DEINTER 3 - RIBEIRAO PRETO</td>\n",
       "      <td>DEL.SEC.SAO CARLOS</td>\n",
       "      <td>03º D.P. SÃO CARLOS</td>\n",
       "      <td>...</td>\n",
       "      <td>VEICULO</td>\n",
       "      <td>NaN</td>\n",
       "      <td>CGACARA CASALE</td>\n",
       "      <td>COMÉRCIO E SERVIÇOS</td>\n",
       "      <td>LOCADORA-OUTROS</td>\n",
       "      <td>13560011</td>\n",
       "      <td>AVENIDA SÃO CARLOS</td>\n",
       "      <td>3119.0</td>\n",
       "      <td>-22.004271</td>\n",
       "      <td>-47.891081</td>\n",
       "    </tr>\n",
       "  </tbody>\n",
       "</table>\n",
       "<p>5 rows × 35 columns</p>\n",
       "</div>"
      ],
      "text/plain": [
       "   ID_DELEGACIA                         NOME_DEPARTAMENTO  \\\n",
       "0         10365  DECAP                                      \n",
       "1         10365  DECAP                                      \n",
       "2         30212  DEMACRO                                    \n",
       "3         30212  DEMACRO                                    \n",
       "4         30313  DEMACRO                                    \n",
       "\n",
       "                             NOME_SECCIONAL                  NOME_DELEGACIA  \\\n",
       "0  DEL.SEC.4º NORTE                          90º D.P. PQ. NOVO MUNDO          \n",
       "1  DEL.SEC.4º NORTE                          90º D.P. PQ. NOVO MUNDO          \n",
       "2  DEL.SEC.GUARULHOS                         04º D.P. GUARULHOS               \n",
       "3  DEL.SEC.GUARULHOS                         04º D.P. GUARULHOS               \n",
       "4  DEL.SEC.MOGI DAS CRUZES                   04º D.P. MOGI DAS CRUZES         \n",
       "\n",
       "                                     CIDADE  ANO_BO  NUM_BO  \\\n",
       "0  S.CARLOS                                    2017    1070   \n",
       "1  S.CARLOS                                    2018     719   \n",
       "2  S.CARLOS                                    2018    6604   \n",
       "3  S.CARLOS                                    2018    6734   \n",
       "4  S.CARLOS                                    2017    1458   \n",
       "\n",
       "                     NOME_DEPARTAMENTO_CIRC  \\\n",
       "0  DEINTER 3 - RIBEIRAO PRETO                 \n",
       "1  DEINTER 3 - RIBEIRAO PRETO                 \n",
       "2  DEINTER 3 - RIBEIRAO PRETO                 \n",
       "3  DEINTER 3 - RIBEIRAO PRETO                 \n",
       "4  DEINTER 3 - RIBEIRAO PRETO                 \n",
       "\n",
       "                        NOME_SECCIONAL_CIRC             NOME_DELEGACIA_CIRC  \\\n",
       "0  DEL.SEC.SAO CARLOS                        04º D.P. SÃO CARLOS              \n",
       "1  DEL.SEC.SAO CARLOS                        04º D.P. SÃO CARLOS              \n",
       "2  DEL.SEC.SAO CARLOS                        04º D.P. SÃO CARLOS              \n",
       "3  DEL.SEC.SAO CARLOS                        05º D.P. SÃO CARLOS              \n",
       "4  DEL.SEC.SAO CARLOS                        03º D.P. SÃO CARLOS              \n",
       "\n",
       "   ... DESCR_CONDUTA DESDOBRAMENTO           BAIRRO      DESCR_TIPOLOCAL  \\\n",
       "0  ...       VEICULO           NaN            RURAL      RODOVIA/ESTRADA   \n",
       "1  ...       VEICULO           NaN  VL SANTA ISABEL          VIA PÚBLICA   \n",
       "2  ...       VEICULO           NaN            RURAL          VIA PÚBLICA   \n",
       "3  ...        OUTROS           NaN            RURAL          VIA PÚBLICA   \n",
       "4  ...       VEICULO           NaN   CGACARA CASALE  COMÉRCIO E SERVIÇOS   \n",
       "\n",
       "  DESCR_SUBTIPOLOCAL       CEP          LOGRADOURO NUMERO_LOGRADOURO  \\\n",
       "0             OUTROS         -      RODOVIA SP 310             224.0   \n",
       "1        VIA PÚBLICA  13570790    RUA SANTA ISABEL             230.0   \n",
       "2        VIA PÚBLICA       NaN      RODOVIA SP 310             229.0   \n",
       "3        VIA PÚBLICA       NaN      RODOVIA SP 310             240.0   \n",
       "4    LOCADORA-OUTROS  13560011  AVENIDA SÃO CARLOS            3119.0   \n",
       "\n",
       "    LATITUDE  LONGITUDE  \n",
       "0 -22.077654 -47.840905  \n",
       "1 -22.034556 -47.883901  \n",
       "2 -22.033240 -47.860367  \n",
       "3 -21.972914 -47.943115  \n",
       "4 -22.004271 -47.891081  \n",
       "\n",
       "[5 rows x 35 columns]"
      ]
     },
     "execution_count": 29,
     "metadata": {},
     "output_type": "execute_result"
    }
   ],
   "source": [
    "crimes.head()"
   ]
  },
  {
   "cell_type": "code",
   "execution_count": 30,
   "metadata": {},
   "outputs": [
    {
     "data": {
      "text/plain": [
       "8345"
      ]
     },
     "execution_count": 30,
     "metadata": {},
     "output_type": "execute_result"
    }
   ],
   "source": [
    "crimes['TIPO_INTOLERANCIA'].isna().sum()"
   ]
  },
  {
   "cell_type": "code",
   "execution_count": 31,
   "metadata": {},
   "outputs": [
    {
     "data": {
      "text/plain": [
       "['ANO_BO',\n",
       " 'BAIRRO',\n",
       " 'CEP',\n",
       " 'CIDADE',\n",
       " 'DATAHORA_COMUNICACAO_BO',\n",
       " 'DATAHORA_IMPRESSAO_BO',\n",
       " 'DATAHORA_REGISTRO_BO',\n",
       " 'DATA_OCORRENCIA_BO',\n",
       " 'DESCRICAO_APRESENTACAO',\n",
       " 'DESCR_CONDUTA',\n",
       " 'DESCR_PERIODO',\n",
       " 'DESCR_SUBTIPOLOCAL',\n",
       " 'DESCR_TIPOLOCAL',\n",
       " 'DESCR_TIPO_BO',\n",
       " 'DESDOBRAMENTO',\n",
       " 'FLAG_AUTORIA_BO',\n",
       " 'FLAG_FLAGRANTE',\n",
       " 'FLAG_INTOLERANCIA',\n",
       " 'FLAG_STATUS',\n",
       " 'HORA_OCORRENCIA_BO',\n",
       " 'ID_DELEGACIA',\n",
       " 'LATITUDE',\n",
       " 'LOGRADOURO',\n",
       " 'LONGITUDE',\n",
       " 'NOME_DELEGACIA',\n",
       " 'NOME_DELEGACIA_CIRC',\n",
       " 'NOME_DEPARTAMENTO',\n",
       " 'NOME_DEPARTAMENTO_CIRC',\n",
       " 'NOME_MUNICIPIO_CIRC',\n",
       " 'NOME_SECCIONAL',\n",
       " 'NOME_SECCIONAL_CIRC',\n",
       " 'NUMERO_LOGRADOURO',\n",
       " 'NUM_BO',\n",
       " 'RUBRICA',\n",
       " 'TIPO_INTOLERANCIA']"
      ]
     },
     "execution_count": 31,
     "metadata": {},
     "output_type": "execute_result"
    }
   ],
   "source": [
    "sorted(crimes.columns)"
   ]
  },
  {
   "cell_type": "code",
   "execution_count": 32,
   "metadata": {},
   "outputs": [],
   "source": [
    "crimes = crimes.drop(columns=['DATAHORA_COMUNICACAO_BO', 'TIPO_INTOLERANCIA'])"
   ]
  },
  {
   "cell_type": "code",
   "execution_count": 33,
   "metadata": {},
   "outputs": [],
   "source": [
    "crimes = crimes.rename(columns={'ANO_BO' : 'Ano',\n",
    "                                'BAIRRO' : 'Bairro',\n",
    "                                'CIDADE' : 'Cidade',\n",
    "                                'DATAHORA_IMPRESSAO_BO' : 'Data_hora_impressao_BO',\n",
    "                                'DATAHORA_REGISTRO_BO' : 'Data_hora_registro_BO',\n",
    "                                'DATA_OCORRENCIA_BO' : 'Data_ocorrencia_BO',\n",
    "                                'DESCRICAO_APRESENTACAO' : 'Apresentação',\n",
    "                                'DESCR_CONDUTA' : 'Conduta',\n",
    "                                'DESCR_PERIODO' : 'Período',\n",
    "                                'DESCR_SUBTIPOLOCAL' : 'Subtipo_local',\n",
    "                                'DESCR_TIPOLOCAL' : 'Tipo_local',\n",
    "                                'DESCR_TIPO_BO' : 'Tipo_BO',\n",
    "                                'DESDOBRAMENTO' : 'Desdobramento',\n",
    "                                'FLAG_AUTORIA_BO': 'Autoria_BO',\n",
    "                                'FLAG_FLAGRANTE' : 'Flagrante',\n",
    "                                'FLAG_INTOLERANCIA' : 'Intolerância',\n",
    "                                'FLAG_STATUS' : 'Status',\n",
    "                                'HORA_OCORRENCIA_BO' : 'Hora_ocorrencia_BO',\n",
    "                                'ID_DELEGACIA' : 'ID_delegacia',\n",
    "                                'NOME_DELEGACIA_CIRC' : 'Nome_delegacia_circ',\n",
    "                                'NOME_DEPARTAMENTO' : 'Nome_departamento',\n",
    "                                'NOME_DEPARTAMENTO_CIRC' : 'Nome_departamento_circ',\n",
    "                                'NOME_MUNICIPIO_CIRC' : 'Município',\n",
    "                                'NOME_SECCIONAL' : 'Nome_seccional',\n",
    "                                'NOME_SECCIONAL_CIRC' : 'Nome_seccional_circ',\n",
    "                                'NUMERO_LOGRADOURO' : 'Num_logradouro',\n",
    "                                'NUM_BO' : 'Num_BO',\n",
    "                                'RUBRICA' : 'Rubrica'\n",
    "                        })"
   ]
  },
  {
   "cell_type": "code",
   "execution_count": 34,
   "metadata": {},
   "outputs": [],
   "source": [
    "crimes.to_csv(r'data/Crimes.csv', index=False)"
   ]
  },
  {
   "cell_type": "code",
   "execution_count": null,
   "metadata": {},
   "outputs": [],
   "source": []
  }
 ],
 "metadata": {
  "kernelspec": {
   "display_name": "Python 3",
   "language": "python",
   "name": "python3"
  },
  "language_info": {
   "codemirror_mode": {
    "name": "ipython",
    "version": 3
   },
   "file_extension": ".py",
   "mimetype": "text/x-python",
   "name": "python",
   "nbconvert_exporter": "python",
   "pygments_lexer": "ipython3",
   "version": "3.7.3"
  }
 },
 "nbformat": 4,
 "nbformat_minor": 2
}
